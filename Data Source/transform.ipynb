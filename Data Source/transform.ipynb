{
 "cells": [
  {
   "cell_type": "code",
   "execution_count": 1,
   "id": "8edd4e25-f3b9-49d9-8b0a-7c0bab3a0f7f",
   "metadata": {},
   "outputs": [
    {
     "name": "stdout",
     "output_type": "stream",
     "text": [
      "Looking in indexes: https://pypi.tuna.tsinghua.edu.cn/simple\n",
      "Collecting python-chess\n",
      "  Downloading https://pypi.tuna.tsinghua.edu.cn/packages/38/47/dfebc06e589530691d33c71bc7b3d8d311252b58ae338980fd4327fe77f2/python_chess-1.999-py3-none-any.whl (1.4 kB)\n",
      "Requirement already satisfied: pandas in d:\\anaconda3\\lib\\site-packages (2.1.1)\n",
      "Collecting chess<2,>=1 (from python-chess)\n",
      "  Downloading https://pypi.tuna.tsinghua.edu.cn/packages/d6/d8/15cfcb738d2518daf04d34b23419bd359cbd8e09da50778ebac521774fc8/chess-1.10.0-py3-none-any.whl (154 kB)\n",
      "     ---------------------------------------- 0.0/154.4 kB ? eta -:--:--\n",
      "     -- ------------------------------------- 10.2/154.4 kB ? eta -:--:--\n",
      "     -- ------------------------------------- 10.2/154.4 kB ? eta -:--:--\n",
      "     ------- ----------------------------- 30.7/154.4 kB 163.8 kB/s eta 0:00:01\n",
      "     ------- ----------------------------- 30.7/154.4 kB 163.8 kB/s eta 0:00:01\n",
      "     ------- ----------------------------- 30.7/154.4 kB 163.8 kB/s eta 0:00:01\n",
      "     ------- ----------------------------- 30.7/154.4 kB 163.8 kB/s eta 0:00:01\n",
      "     ------- ----------------------------- 30.7/154.4 kB 163.8 kB/s eta 0:00:01\n",
      "     ---------- --------------------------- 41.0/154.4 kB 85.3 kB/s eta 0:00:02\n",
      "     ---------- --------------------------- 41.0/154.4 kB 85.3 kB/s eta 0:00:02\n",
      "     -------------- ---------------------- 61.4/154.4 kB 121.3 kB/s eta 0:00:01\n",
      "     -------------- ---------------------- 61.4/154.4 kB 121.3 kB/s eta 0:00:01\n",
      "     ----------------- ------------------- 71.7/154.4 kB 115.5 kB/s eta 0:00:01\n",
      "     ----------------- ------------------- 71.7/154.4 kB 115.5 kB/s eta 0:00:01\n",
      "     ---------------------- -------------- 92.2/154.4 kB 131.1 kB/s eta 0:00:01\n",
      "     ---------------------- -------------- 92.2/154.4 kB 131.1 kB/s eta 0:00:01\n",
      "     ---------------------------- ------- 122.9/154.4 kB 150.2 kB/s eta 0:00:01\n",
      "     --------------------------------- -- 143.4/154.4 kB 167.0 kB/s eta 0:00:01\n",
      "     --------------------------------- -- 143.4/154.4 kB 167.0 kB/s eta 0:00:01\n",
      "     ------------------------------------ 154.4/154.4 kB 164.8 kB/s eta 0:00:00\n",
      "Requirement already satisfied: numpy>=1.23.2 in d:\\anaconda3\\lib\\site-packages (from pandas) (1.26.2)\n",
      "Requirement already satisfied: python-dateutil>=2.8.2 in d:\\anaconda3\\lib\\site-packages (from pandas) (2.8.2)\n",
      "Requirement already satisfied: pytz>=2020.1 in d:\\anaconda3\\lib\\site-packages (from pandas) (2023.3.post1)\n",
      "Requirement already satisfied: tzdata>=2022.1 in d:\\anaconda3\\lib\\site-packages (from pandas) (2023.3)\n",
      "Requirement already satisfied: six>=1.5 in d:\\anaconda3\\lib\\site-packages (from python-dateutil>=2.8.2->pandas) (1.16.0)\n",
      "Installing collected packages: chess, python-chess\n",
      "Successfully installed chess-1.10.0 python-chess-1.999\n",
      "Note: you may need to restart the kernel to use updated packages.\n"
     ]
    }
   ],
   "source": [
    "pip install python-chess pandas"
   ]
  },
  {
   "cell_type": "code",
   "execution_count": 6,
   "id": "745ccdff-ee86-4e3b-8efc-b3b075694fd7",
   "metadata": {},
   "outputs": [],
   "source": [
    "import chess.pgn\n",
    "import pandas as pd\n",
    "import io\n",
    "\n",
    "# read PGN\n",
    "pgn_file_path = r\"C:\\Users\\Jintao1999\\Desktop\\ULB\\Database systems architecture\\project\\test\\TrompowskyOther.pgn\"\n",
    "pgn_file = open(pgn_file_path)\n",
    "\n",
    "data = []\n",
    "\n",
    "while True:\n",
    "    game = chess.pgn.read_game(pgn_file)\n",
    "    if game is None:\n",
    "        break\n",
    "    headers = game.headers\n",
    "    moves = game.board().variation_san(game.mainline_moves())\n",
    "\n",
    "    # extract key information\n",
    "    data.append({\n",
    "        \"Event\": headers[\"Event\"],\n",
    "        \"Site\": headers[\"Site\"],\n",
    "        \"Date\": headers[\"Date\"],\n",
    "        \"Round\": headers[\"Round\"],\n",
    "        \"White\": headers[\"White\"],\n",
    "        \"Black\": headers[\"Black\"],\n",
    "        \"Result\": headers[\"Result\"],\n",
    "        \"Moves\": moves\n",
    "    })\n",
    "\n",
    "df = pd.DataFrame(data)\n",
    "\n",
    "csv_file_path = r\"C:\\Users\\Jintao1999\\Desktop\\ULB\\Database systems architecture\\project\\test\\TrompowskyOther.csv\"\n",
    "df.to_csv(csv_file_path, index=False)\n"
   ]
  },
  {
   "cell_type": "code",
   "execution_count": 7,
   "id": "646b5f07-df13-4307-99f3-56e0a8296ad6",
   "metadata": {},
   "outputs": [],
   "source": [
    "import pandas as pd\n",
    "\n",
    "csv_path = r\"C:\\Users\\Jintao1999\\Desktop\\ULB\\Database systems architecture\\project\\test\\TrompowskyOther.csv\"\n",
    "df = pd.read_csv(csv_path)\n",
    "\n",
    "# Check Round column\n",
    "df['Round'] = df['Round'].apply(lambda x: pd.NA if '?' in str(x) else x)\n",
    "\n",
    "clean_csv_path = r\"C:\\Users\\Jintao1999\\Desktop\\ULB\\Database systems architecture\\project\\test\\TrompowskyOther1.csv\"\n",
    "df.to_csv(clean_csv_path, index=False)\n"
   ]
  },
  {
   "cell_type": "code",
   "execution_count": 8,
   "id": "2c4ab8ef-743d-4832-914d-822165219c6c",
   "metadata": {},
   "outputs": [],
   "source": [
    "import pandas as pd\n",
    "\n",
    "csv_path = r\"C:\\Users\\Jintao1999\\Desktop\\ULB\\Database systems architecture\\project\\test\\TrompowskyOther1.csv\"\n",
    "df = pd.read_csv(csv_path)\n",
    "\n",
    "# Only reserve the first four numbers of Date\n",
    "df['Date'] = df['Date'].str.extract(r'(\\d{4})')\n",
    "\n",
    "\n",
    "clean_csv_path = r\"C:\\Users\\Jintao1999\\Desktop\\ULB\\Database systems architecture\\project\\test\\TrompowskyOther2.csv\"\n",
    "df.to_csv(clean_csv_path, index=False)\n"
   ]
  },
  {
   "cell_type": "code",
   "execution_count": 9,
   "id": "1394bd25-6b46-4357-be35-f3ebac39329e",
   "metadata": {},
   "outputs": [],
   "source": [
    "import pandas as pd\n",
    "\n",
    "\n",
    "csv_path = r\"C:\\Users\\Jintao1999\\Desktop\\ULB\\Database systems architecture\\project\\test\\TrompowskyOther2.csv\"\n",
    "df = pd.read_csv(csv_path)\n",
    "\n",
    "# Define Valid Results\n",
    "valid_results = ['1-0', '0-1', '1/2-1/2', '*']\n",
    "\n",
    "# Alter invalid value into NaN\n",
    "df['Result'] = df['Result'].apply(lambda x: x if x in valid_results else pd.NA)\n",
    "\n",
    "clean_csv_path = r\"C:\\Users\\Jintao1999\\Desktop\\ULB\\Database systems architecture\\project\\test\\TrompowskyOther3.csv\"\n",
    "df.to_csv(clean_csv_path, index=False)\n"
   ]
  },
  {
   "cell_type": "code",
   "execution_count": 10,
   "id": "b958bcd2-4979-42b4-b896-ed42e3b20a85",
   "metadata": {},
   "outputs": [
    {
     "data": {
      "text/plain": [
       "'C:\\\\Users\\\\Jintao1999\\\\Desktop\\\\ULB\\\\Database systems architecture\\\\project\\\\test\\\\TrompowskyOther4.csv'"
      ]
     },
     "execution_count": 10,
     "metadata": {},
     "output_type": "execute_result"
    }
   ],
   "source": [
    "import pandas as pd\n",
    "\n",
    "csv_path = r\"C:\\Users\\Jintao1999\\Desktop\\ULB\\Database systems architecture\\project\\test\\TrompowskyOther3.csv\"\n",
    "\n",
    "df = pd.read_csv(csv_path)\n",
    "\n",
    "df['Round'] = pd.to_numeric(df['Round'], errors='coerce')\n",
    "\n",
    "df['Round'].fillna(0, inplace=True)\n",
    "\n",
    "df['Round'] = df['Round'].astype(int)\n",
    "\n",
    "clean_csv_path = r\"C:\\Users\\Jintao1999\\Desktop\\ULB\\Database systems architecture\\project\\test\\TrompowskyOther4.csv\"\n",
    "df.to_csv(clean_csv_path, index=False)\n",
    "\n",
    "clean_csv_path\n"
   ]
  },
  {
   "cell_type": "code",
   "execution_count": null,
   "id": "17b01730-389f-4b29-ba45-50d7b9f49918",
   "metadata": {},
   "outputs": [],
   "source": []
  }
 ],
 "metadata": {
  "kernelspec": {
   "display_name": "Python 3 (ipykernel)",
   "language": "python",
   "name": "python3"
  },
  "language_info": {
   "codemirror_mode": {
    "name": "ipython",
    "version": 3
   },
   "file_extension": ".py",
   "mimetype": "text/x-python",
   "name": "python",
   "nbconvert_exporter": "python",
   "pygments_lexer": "ipython3",
   "version": "3.11.5"
  }
 },
 "nbformat": 4,
 "nbformat_minor": 5
}
